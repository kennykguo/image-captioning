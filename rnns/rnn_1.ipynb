{
 "cells": [
  {
   "cell_type": "code",
   "execution_count": 2,
   "id": "4b5fa033-e1a8-4589-97b3-3076f81754c8",
   "metadata": {
    "scrolled": true
   },
   "outputs": [
    {
     "name": "stdout",
     "output_type": "stream",
     "text": [
      "Requirement already satisfied: nltk in /Users/kenny/Library/jupyterlab-desktop/jlab_server/lib/python3.12/site-packages (3.8.1)\n",
      "Requirement already satisfied: click in /Users/kenny/Library/jupyterlab-desktop/jlab_server/lib/python3.12/site-packages (from nltk) (8.1.7)\n",
      "Requirement already satisfied: joblib in /Users/kenny/Library/jupyterlab-desktop/jlab_server/lib/python3.12/site-packages (from nltk) (1.4.2)\n",
      "Requirement already satisfied: regex>=2021.8.3 in /Users/kenny/Library/jupyterlab-desktop/jlab_server/lib/python3.12/site-packages (from nltk) (2024.4.28)\n",
      "Requirement already satisfied: tqdm in /Users/kenny/Library/jupyterlab-desktop/jlab_server/lib/python3.12/site-packages (from nltk) (4.66.2)\n"
     ]
    }
   ],
   "source": [
    "!pip install nltk"
   ]
  },
  {
   "cell_type": "code",
   "execution_count": 3,
   "id": "479d8963-fd47-4d73-9973-ae4b563f0881",
   "metadata": {},
   "outputs": [
    {
     "name": "stdout",
     "output_type": "stream",
     "text": [
      "Requirement already satisfied: utils in /Users/kenny/Library/jupyterlab-desktop/jlab_server/lib/python3.12/site-packages (1.0.2)\n"
     ]
    }
   ],
   "source": [
    "!pip install utils"
   ]
  },
  {
   "cell_type": "code",
   "execution_count": 4,
   "id": "3b6764e3-afbd-459b-85b7-aa01d4aef667",
   "metadata": {},
   "outputs": [],
   "source": [
    "import csv\n",
    "import itertools\n",
    "import operator\n",
    "import numpy as np\n",
    "import nltk\n",
    "import sys\n",
    "from datetime import datetime\n",
    "from utils import *\n",
    "\n",
    "import matplotlib.pyplot as plt\n",
    "%matplotlib inline"
   ]
  },
  {
   "cell_type": "code",
   "execution_count": 8,
   "id": "28a1d2ae-233c-4a56-86d8-513f5cd27c31",
   "metadata": {},
   "outputs": [],
   "source": [
    "vocabulary_size = 5000\n",
    "unknown_token = \"UNKNOWN_TOKEN\"\n",
    "sentence_start_token = \"SENTENCE_START\"\n",
    "sentence_end_token = \"SENTENCE_END\"\n"
   ]
  },
  {
   "cell_type": "code",
   "execution_count": 6,
   "id": "40b224c4-d347-485c-b40d-27a3b3c94c8f",
   "metadata": {
    "scrolled": true
   },
   "outputs": [
    {
     "name": "stderr",
     "output_type": "stream",
     "text": [
      "[nltk_data] Downloading collection 'book'\n",
      "[nltk_data]    | \n",
      "[nltk_data]    | Downloading package abc to /Users/kenny/nltk_data...\n",
      "[nltk_data]    |   Package abc is already up-to-date!\n",
      "[nltk_data]    | Downloading package brown to\n",
      "[nltk_data]    |     /Users/kenny/nltk_data...\n",
      "[nltk_data]    |   Package brown is already up-to-date!\n",
      "[nltk_data]    | Downloading package chat80 to\n",
      "[nltk_data]    |     /Users/kenny/nltk_data...\n",
      "[nltk_data]    |   Package chat80 is already up-to-date!\n",
      "[nltk_data]    | Downloading package cmudict to\n",
      "[nltk_data]    |     /Users/kenny/nltk_data...\n",
      "[nltk_data]    |   Package cmudict is already up-to-date!\n",
      "[nltk_data]    | Downloading package conll2000 to\n",
      "[nltk_data]    |     /Users/kenny/nltk_data...\n",
      "[nltk_data]    |   Package conll2000 is already up-to-date!\n",
      "[nltk_data]    | Downloading package conll2002 to\n",
      "[nltk_data]    |     /Users/kenny/nltk_data...\n",
      "[nltk_data]    |   Package conll2002 is already up-to-date!\n",
      "[nltk_data]    | Downloading package dependency_treebank to\n",
      "[nltk_data]    |     /Users/kenny/nltk_data...\n",
      "[nltk_data]    |   Package dependency_treebank is already up-to-date!\n",
      "[nltk_data]    | Downloading package genesis to\n",
      "[nltk_data]    |     /Users/kenny/nltk_data...\n",
      "[nltk_data]    |   Package genesis is already up-to-date!\n",
      "[nltk_data]    | Downloading package gutenberg to\n",
      "[nltk_data]    |     /Users/kenny/nltk_data...\n",
      "[nltk_data]    |   Package gutenberg is already up-to-date!\n",
      "[nltk_data]    | Downloading package ieer to /Users/kenny/nltk_data...\n",
      "[nltk_data]    |   Package ieer is already up-to-date!\n",
      "[nltk_data]    | Downloading package inaugural to\n",
      "[nltk_data]    |     /Users/kenny/nltk_data...\n",
      "[nltk_data]    |   Package inaugural is already up-to-date!\n",
      "[nltk_data]    | Downloading package movie_reviews to\n",
      "[nltk_data]    |     /Users/kenny/nltk_data...\n",
      "[nltk_data]    |   Package movie_reviews is already up-to-date!\n",
      "[nltk_data]    | Downloading package nps_chat to\n",
      "[nltk_data]    |     /Users/kenny/nltk_data...\n",
      "[nltk_data]    |   Package nps_chat is already up-to-date!\n",
      "[nltk_data]    | Downloading package names to\n",
      "[nltk_data]    |     /Users/kenny/nltk_data...\n",
      "[nltk_data]    |   Package names is already up-to-date!\n",
      "[nltk_data]    | Downloading package ppattach to\n",
      "[nltk_data]    |     /Users/kenny/nltk_data...\n",
      "[nltk_data]    |   Package ppattach is already up-to-date!\n",
      "[nltk_data]    | Downloading package reuters to\n",
      "[nltk_data]    |     /Users/kenny/nltk_data...\n",
      "[nltk_data]    |   Package reuters is already up-to-date!\n",
      "[nltk_data]    | Downloading package senseval to\n",
      "[nltk_data]    |     /Users/kenny/nltk_data...\n",
      "[nltk_data]    |   Package senseval is already up-to-date!\n",
      "[nltk_data]    | Downloading package state_union to\n",
      "[nltk_data]    |     /Users/kenny/nltk_data...\n",
      "[nltk_data]    |   Package state_union is already up-to-date!\n",
      "[nltk_data]    | Downloading package stopwords to\n",
      "[nltk_data]    |     /Users/kenny/nltk_data...\n",
      "[nltk_data]    |   Package stopwords is already up-to-date!\n",
      "[nltk_data]    | Downloading package swadesh to\n",
      "[nltk_data]    |     /Users/kenny/nltk_data...\n",
      "[nltk_data]    |   Package swadesh is already up-to-date!\n",
      "[nltk_data]    | Downloading package timit to\n",
      "[nltk_data]    |     /Users/kenny/nltk_data...\n",
      "[nltk_data]    |   Package timit is already up-to-date!\n",
      "[nltk_data]    | Downloading package treebank to\n",
      "[nltk_data]    |     /Users/kenny/nltk_data...\n",
      "[nltk_data]    |   Package treebank is already up-to-date!\n",
      "[nltk_data]    | Downloading package toolbox to\n",
      "[nltk_data]    |     /Users/kenny/nltk_data...\n",
      "[nltk_data]    |   Package toolbox is already up-to-date!\n",
      "[nltk_data]    | Downloading package udhr to /Users/kenny/nltk_data...\n",
      "[nltk_data]    |   Package udhr is already up-to-date!\n",
      "[nltk_data]    | Downloading package udhr2 to\n",
      "[nltk_data]    |     /Users/kenny/nltk_data...\n",
      "[nltk_data]    |   Package udhr2 is already up-to-date!\n",
      "[nltk_data]    | Downloading package unicode_samples to\n",
      "[nltk_data]    |     /Users/kenny/nltk_data...\n",
      "[nltk_data]    |   Package unicode_samples is already up-to-date!\n",
      "[nltk_data]    | Downloading package webtext to\n",
      "[nltk_data]    |     /Users/kenny/nltk_data...\n",
      "[nltk_data]    |   Package webtext is already up-to-date!\n",
      "[nltk_data]    | Downloading package wordnet to\n",
      "[nltk_data]    |     /Users/kenny/nltk_data...\n",
      "[nltk_data]    |   Package wordnet is already up-to-date!\n",
      "[nltk_data]    | Downloading package wordnet_ic to\n",
      "[nltk_data]    |     /Users/kenny/nltk_data...\n",
      "[nltk_data]    |   Package wordnet_ic is already up-to-date!\n",
      "[nltk_data]    | Downloading package words to\n",
      "[nltk_data]    |     /Users/kenny/nltk_data...\n",
      "[nltk_data]    |   Package words is already up-to-date!\n",
      "[nltk_data]    | Downloading package maxent_treebank_pos_tagger to\n",
      "[nltk_data]    |     /Users/kenny/nltk_data...\n",
      "[nltk_data]    |   Package maxent_treebank_pos_tagger is already up-\n",
      "[nltk_data]    |       to-date!\n",
      "[nltk_data]    | Downloading package maxent_ne_chunker to\n",
      "[nltk_data]    |     /Users/kenny/nltk_data...\n",
      "[nltk_data]    |   Package maxent_ne_chunker is already up-to-date!\n",
      "[nltk_data]    | Downloading package universal_tagset to\n",
      "[nltk_data]    |     /Users/kenny/nltk_data...\n",
      "[nltk_data]    |   Package universal_tagset is already up-to-date!\n",
      "[nltk_data]    | Downloading package punkt to\n",
      "[nltk_data]    |     /Users/kenny/nltk_data...\n",
      "[nltk_data]    |   Package punkt is already up-to-date!\n",
      "[nltk_data]    | Downloading package book_grammars to\n",
      "[nltk_data]    |     /Users/kenny/nltk_data...\n",
      "[nltk_data]    |   Package book_grammars is already up-to-date!\n",
      "[nltk_data]    | Downloading package city_database to\n",
      "[nltk_data]    |     /Users/kenny/nltk_data...\n",
      "[nltk_data]    |   Package city_database is already up-to-date!\n",
      "[nltk_data]    | Downloading package tagsets to\n",
      "[nltk_data]    |     /Users/kenny/nltk_data...\n",
      "[nltk_data]    |   Package tagsets is already up-to-date!\n",
      "[nltk_data]    | Downloading package panlex_swadesh to\n",
      "[nltk_data]    |     /Users/kenny/nltk_data...\n",
      "[nltk_data]    |   Package panlex_swadesh is already up-to-date!\n",
      "[nltk_data]    | Downloading package averaged_perceptron_tagger to\n",
      "[nltk_data]    |     /Users/kenny/nltk_data...\n",
      "[nltk_data]    |   Package averaged_perceptron_tagger is already up-\n",
      "[nltk_data]    |       to-date!\n",
      "[nltk_data]    | \n",
      "[nltk_data]  Done downloading collection book\n"
     ]
    },
    {
     "data": {
      "text/plain": [
       "True"
      ]
     },
     "execution_count": 6,
     "metadata": {},
     "output_type": "execute_result"
    }
   ],
   "source": [
    "# Download NLTK model data (you need to do this once)\n",
    "nltk.download(\"book\")"
   ]
  },
  {
   "cell_type": "code",
   "execution_count": 9,
   "id": "9a1df8e8-2155-4a87-bbf8-654bfe483674",
   "metadata": {},
   "outputs": [
    {
     "name": "stdout",
     "output_type": "stream",
     "text": [
      "[\"SENTENCE_START it's a slight ppr league- .2 ppr. SENTENCE_END\", 'SENTENCE_START standard besides 1 points for 15 yards receiving, .2 points per completion, 6 points per td thrown, and some bonuses for rec/rush/pass yardage. SENTENCE_END', 'SENTENCE_START my question is, is it wildly clear that qb has the highest potential for points? SENTENCE_END', 'SENTENCE_START i put in the rules at a ranking site and noticed that top qbs had 300 points more than the top rb/wr. SENTENCE_END', 'SENTENCE_START would it be dumb not to grab a qb in the first round? SENTENCE_END', 'SENTENCE_START in your scenario, a person could just not run the mandatory background check on the buyer and still sell the gun to the felon. SENTENCE_END', \"SENTENCE_START there's no way to enforce it. SENTENCE_END\", \"SENTENCE_START an honest seller is going to not sell the gun to them when they see they're a felon on the background check. SENTENCE_END\", \"SENTENCE_START a dishonest seller isn't going to run the check in the first place. SENTENCE_END\"]\n",
      "Parsed 79184 sentences.\n"
     ]
    }
   ],
   "source": [
    "with open('reddit-comments-2015-08.csv', 'r', newline='', encoding='utf-8') as f:\n",
    "    # Initalize a reader object\n",
    "    reader = csv.reader(f, skipinitialspace=True)\n",
    "    # Skip the header row\n",
    "    next(reader)  \n",
    "    # Split full comments into sentences  - [nltk.sent_tokenize(x[0].lower()) for x in reader] - for the paragraph x[0] from the csv file, make it lowercase and tokenize all sentence\n",
    "    # For all pararaphs in the csv file. * operator unpacks the list into individual sentences, and creates a single iterable\n",
    "    sentences = itertools.chain(*[nltk.sent_tokenize(x[0].lower()) for x in reader])\n",
    "    # Append SENTENCE_START and SENTENCE_END\n",
    "    # Replace all sentence x in sentences with the start token, sentence body, and text token\"\n",
    "    sentences = [\"%s %s %s\" % (sentence_start_token, x, sentence_end_token) for x in sentences]\n",
    "    print(sentences[1:10])\n",
    "print (f\"Parsed {len(sentences)} sentences.\")"
   ]
  },
  {
   "cell_type": "code",
   "execution_count": 10,
   "id": "c6f24abb-60b6-4a98-9c12-8a5baab8dae0",
   "metadata": {},
   "outputs": [],
   "source": [
    "# Tokenize the sentences into words\n",
    "tokenized_sentences = [nltk.word_tokenize(sent) for sent in sentences]"
   ]
  },
  {
   "cell_type": "code",
   "execution_count": 11,
   "id": "9cb815af-c2b8-485f-a4ce-ce59e483fff7",
   "metadata": {},
   "outputs": [
    {
     "name": "stdout",
     "output_type": "stream",
     "text": [
      "['SENTENCE_START', 'it', \"'s\", 'a', 'slight', 'ppr', 'league-', '.2', 'ppr', '.', 'SENTENCE_END']\n"
     ]
    }
   ],
   "source": [
    "print(tokenized_sentences[1])"
   ]
  },
  {
   "cell_type": "code",
   "execution_count": 12,
   "id": "ab4cdcd2-50ad-45e3-a475-c09ce4a71011",
   "metadata": {},
   "outputs": [
    {
     "name": "stdout",
     "output_type": "stream",
     "text": [
      "Found 63023 unique words tokens.\n"
     ]
    }
   ],
   "source": [
    "# Count the word frequencies\n",
    "word_freq = nltk.FreqDist(itertools.chain(*tokenized_sentences))\n",
    "print (f\"Found { len(word_freq.items()) } unique words tokens.\" )"
   ]
  },
  {
   "cell_type": "code",
   "execution_count": 13,
   "id": "00d40b91-af5f-4e31-8201-431605c9f65e",
   "metadata": {},
   "outputs": [
    {
     "name": "stdout",
     "output_type": "stream",
     "text": [
      "Vocab:\n",
      "[('SENTENCE_END', 79184), ('.', 67334), ('the', 52419), (',', 52137), ('to', 35576), ('i', 32614), ('a', 31777), ('and', 30055), ('of', 23232), ('you', 22457), ('it', 22353), ('that', 19334), ('is', 18196), ('in', 16944), ('*', 14955), ('for', 12541), (\"n't\", 11784), (\"'s\", 11771), (')', 11409)]\n",
      "UNKNOWN_TOKEN\n",
      "Index to word:\n",
      "['SENTENCE_END', '.', 'the', ',', 'to', 'i', 'a', 'and', 'of']\n",
      "1\n",
      "4999\n",
      "1371\n"
     ]
    }
   ],
   "source": [
    "# Get 7999 most common words\n",
    "vocab = word_freq.most_common(vocabulary_size-1)\n",
    "print(\"Vocab:\")\n",
    "print(vocab[1:20])\n",
    "index_to_word = [ x[0] for x in vocab ]\n",
    "# unknown_token = \"UNKNOWN_TOKEN\"\n",
    "index_to_word.append(unknown_token)\n",
    "print(index_to_word[-1])\n",
    "print(\"Index to word:\")\n",
    "print(index_to_word[1:10])\n",
    "# index_to_word is a list of 8000 words ['word1', 'word2']\n",
    "# enumerate is an object that generates index value pairs in that order\n",
    "word_to_index = dict([(w,i) for i,w in enumerate(index_to_word)])\n",
    "# Input a word, it goes into a dictionary, that gets translated to the index of the dictionary of index_to_word\n",
    "# This allows us to represent words as numbers\n",
    "print(word_to_index[\"SENTENCE_END\"])\n",
    "print(word_to_index[\"UNKNOWN_TOKEN\"])\n",
    "print(word_to_index[\"apple\"])"
   ]
  },
  {
   "cell_type": "code",
   "execution_count": 14,
   "id": "77647de6-5a00-4815-b02a-333d92a31e7c",
   "metadata": {},
   "outputs": [
    {
     "name": "stdout",
     "output_type": "stream",
     "text": [
      "[['SENTENCE_START', 'it', \"'s\", 'a', 'slight', 'UNKNOWN_TOKEN', 'UNKNOWN_TOKEN', 'UNKNOWN_TOKEN', 'UNKNOWN_TOKEN', '.', 'SENTENCE_END'], ['SENTENCE_START', 'standard', 'besides', '1', 'points', 'for', '15', 'yards', 'receiving', ',', 'UNKNOWN_TOKEN', 'points', 'per', 'UNKNOWN_TOKEN', ',', '6', 'points', 'per', 'UNKNOWN_TOKEN', 'thrown', ',', 'and', 'some', 'bonuses', 'for', 'UNKNOWN_TOKEN', 'UNKNOWN_TOKEN', '.', 'SENTENCE_END'], ['SENTENCE_START', 'my', 'question', 'is', ',', 'is', 'it', 'UNKNOWN_TOKEN', 'clear', 'that', 'qb', 'has', 'the', 'highest', 'potential', 'for', 'points', '?', 'SENTENCE_END'], ['SENTENCE_START', 'i', 'put', 'in', 'the', 'rules', 'at', 'a', 'ranking', 'site', 'and', 'noticed', 'that', 'top', 'qbs', 'had', '300', 'points', 'more', 'than', 'the', 'top', 'UNKNOWN_TOKEN', '.', 'SENTENCE_END'], ['SENTENCE_START', 'would', 'it', 'be', 'dumb', 'not', 'to', 'grab', 'a', 'qb', 'in', 'the', 'first', 'round', '?', 'SENTENCE_END'], ['SENTENCE_START', 'in', 'your', 'scenario', ',', 'a', 'person', 'could', 'just', 'not', 'run', 'the', 'mandatory', 'background', 'check', 'on', 'the', 'buyer', 'and', 'still', 'sell', 'the', 'gun', 'to', 'the', 'felon', '.', 'SENTENCE_END'], ['SENTENCE_START', 'there', \"'s\", 'no', 'way', 'to', 'enforce', 'it', '.', 'SENTENCE_END'], ['SENTENCE_START', 'an', 'honest', 'seller', 'is', 'going', 'to', 'not', 'sell', 'the', 'gun', 'to', 'them', 'when', 'they', 'see', 'they', \"'re\", 'a', 'felon', 'on', 'the', 'background', 'check', '.', 'SENTENCE_END'], ['SENTENCE_START', 'a', 'UNKNOWN_TOKEN', 'seller', 'is', \"n't\", 'going', 'to', 'run', 'the', 'check', 'in', 'the', 'first', 'place', '.', 'SENTENCE_END'], ['SENTENCE_START', 'no', 'one', 'is', 'going', 'to', 'be', 'honest', 'enough', 'to', 'run', 'the', 'check', ',', 'see', 'they', \"'re\", 'a', 'felon', ',', 'and', 'then', 'all', 'of', 'a', 'sudden', 'immediately', 'turn', 'UNKNOWN_TOKEN', 'and', 'say', '``', 'nah', ',', 'you', 'know', 'what', ',', 'here', \"'s\", 'your', 'gun', 'anyway', '.', \"''\", 'SENTENCE_END'], ['SENTENCE_START', 'they', 'would', \"n't\", 'run', 'the', 'fucking', 'check', 'in', 'the', 'first', 'place', ',', 'genius', '.', 'SENTENCE_END'], ['SENTENCE_START', 'your', 'bullshit', 'UNKNOWN_TOKEN', 'is', '*', '*', 'not', 'UNKNOWN_TOKEN', '*', '*', '.', 'SENTENCE_END'], ['SENTENCE_START', 'this', 'is', 'why', 'people', 'without', '&', 'gt', ';', 'here', \"'s\", 'an', 'idea', ',', 'why', 'not', 'make', 'a', 'background', 'check', 'system', 'where', 'it', 'would', 'be', 'illegal', 'to', 'sell', 'guns', 'to', 'UNKNOWN_TOKEN', '?', 'SENTENCE_END'], ['SENTENCE_START', 'that', 'does', \"n't\", 'convince', 'you', '?', 'SENTENCE_END'], ['SENTENCE_START', 'UNKNOWN_TOKEN', '.', 'SENTENCE_END'], ['SENTENCE_START', 'we', 'already', 'fucking', 'have', 'that', '.', 'SENTENCE_END'], ['SENTENCE_START', 'what', 'are', \"n't\", 'you', 'understanding', 'about', 'this', '?', '!', 'SENTENCE_END'], ['SENTENCE_START', 'it', \"'s\", 'just', 'currently', 'not', 'available', 'to', 'private', 'UNKNOWN_TOKEN', '.', 'SENTENCE_END'], ['SENTENCE_START', 'i', \"'d\", 'like', 'to', 'make', 'it', 'available', ',', 'but', 'there', \"'s\", 'no', 'point', 'in', 'making', 'it', 'mandatory', '.', 'SENTENCE_END']]\n"
     ]
    },
    {
     "data": {
      "text/plain": [
       "11"
      ]
     },
     "execution_count": 14,
     "metadata": {},
     "output_type": "execute_result"
    }
   ],
   "source": [
    "# Replace all words not in our vocabulary with the unknown token\n",
    "for i, sent in enumerate(tokenized_sentences):\n",
    "    # Change all words not in word_to_index to unknown_token\n",
    "    tokenized_sentences[i] = [w if w in word_to_index else unknown_token for w in sent]\n",
    "\n",
    "print(tokenized_sentences[1:20])\n",
    "word_to_index[\"it\"]"
   ]
  },
  {
   "cell_type": "code",
   "execution_count": 15,
   "id": "18dc30da-d325-43f7-837f-e936b475b10b",
   "metadata": {},
   "outputs": [
    {
     "ename": "ValueError",
     "evalue": "setting an array element with a sequence. The requested array has an inhomogeneous shape after 1 dimensions. The detected shape was (79184,) + inhomogeneous part.",
     "output_type": "error",
     "traceback": [
      "\u001b[0;31m---------------------------------------------------------------------------\u001b[0m",
      "\u001b[0;31mValueError\u001b[0m                                Traceback (most recent call last)",
      "Cell \u001b[0;32mIn[15], line 2\u001b[0m\n\u001b[1;32m      1\u001b[0m \u001b[38;5;66;03m# Create the training data\u001b[39;00m\n\u001b[0;32m----> 2\u001b[0m X_train \u001b[38;5;241m=\u001b[39m \u001b[43mnp\u001b[49m\u001b[38;5;241;43m.\u001b[39;49m\u001b[43marray\u001b[49m\u001b[43m(\u001b[49m\u001b[43m \u001b[49m\u001b[43m[\u001b[49m\u001b[43m \u001b[49m\u001b[43m[\u001b[49m\u001b[43mword_to_index\u001b[49m\u001b[43m[\u001b[49m\u001b[43mw\u001b[49m\u001b[43m]\u001b[49m\u001b[43m \u001b[49m\u001b[38;5;28;43;01mfor\u001b[39;49;00m\u001b[43m \u001b[49m\u001b[43mw\u001b[49m\u001b[43m \u001b[49m\u001b[38;5;129;43;01min\u001b[39;49;00m\u001b[43m \u001b[49m\u001b[43msent\u001b[49m\u001b[43m[\u001b[49m\u001b[43m:\u001b[49m\u001b[38;5;241;43m-\u001b[39;49m\u001b[38;5;241;43m1\u001b[39;49m\u001b[43m]\u001b[49m\u001b[43m \u001b[49m\u001b[43m]\u001b[49m\u001b[43m  \u001b[49m\u001b[38;5;28;43;01mfor\u001b[39;49;00m\u001b[43m \u001b[49m\u001b[43msent\u001b[49m\u001b[43m \u001b[49m\u001b[38;5;129;43;01min\u001b[39;49;00m\u001b[43m \u001b[49m\u001b[43mtokenized_sentences\u001b[49m\u001b[43m \u001b[49m\u001b[43m]\u001b[49m\u001b[43m \u001b[49m\u001b[43m)\u001b[49m\n\u001b[1;32m      3\u001b[0m y_train \u001b[38;5;241m=\u001b[39m np\u001b[38;5;241m.\u001b[39marray([[word_to_index[w] \u001b[38;5;28;01mfor\u001b[39;00m w \u001b[38;5;129;01min\u001b[39;00m sent[\u001b[38;5;241m1\u001b[39m:]] \u001b[38;5;28;01mfor\u001b[39;00m sent \u001b[38;5;129;01min\u001b[39;00m tokenized_sentences])\n",
      "\u001b[0;31mValueError\u001b[0m: setting an array element with a sequence. The requested array has an inhomogeneous shape after 1 dimensions. The detected shape was (79184,) + inhomogeneous part."
     ]
    }
   ],
   "source": [
    "# Create the training data\n",
    "X_train = np.array( [ [word_to_index[w] for w in sent[:-1] ]  for sent in tokenized_sentences ] )\n",
    "y_train = np.array([[word_to_index[w] for w in sent[1:]] for sent in tokenized_sentences])"
   ]
  },
  {
   "cell_type": "code",
   "execution_count": 16,
   "id": "a1d9cd58-799d-4f5b-b56a-c146328c5e52",
   "metadata": {},
   "outputs": [
    {
     "ename": "ValueError",
     "evalue": "setting an array element with a sequence. The requested array has an inhomogeneous shape after 1 dimensions. The detected shape was (79184,) + inhomogeneous part.",
     "output_type": "error",
     "traceback": [
      "\u001b[0;31m---------------------------------------------------------------------------\u001b[0m",
      "\u001b[0;31mValueError\u001b[0m                                Traceback (most recent call last)",
      "Cell \u001b[0;32mIn[16], line 20\u001b[0m\n\u001b[1;32m     17\u001b[0m     y_train_list\u001b[38;5;241m.\u001b[39mappend(y_row)\n\u001b[1;32m     19\u001b[0m \u001b[38;5;66;03m# Convert lists to NumPy arrays\u001b[39;00m\n\u001b[0;32m---> 20\u001b[0m X_train \u001b[38;5;241m=\u001b[39m \u001b[43mnp\u001b[49m\u001b[38;5;241;43m.\u001b[39;49m\u001b[43marray\u001b[49m\u001b[43m(\u001b[49m\u001b[43mX_train_list\u001b[49m\u001b[43m)\u001b[49m\n\u001b[1;32m     21\u001b[0m y_train \u001b[38;5;241m=\u001b[39m np\u001b[38;5;241m.\u001b[39marray(y_train_list)\n",
      "\u001b[0;31mValueError\u001b[0m: setting an array element with a sequence. The requested array has an inhomogeneous shape after 1 dimensions. The detected shape was (79184,) + inhomogeneous part."
     ]
    }
   ],
   "source": [
    "X_train_list = []\n",
    "y_train_list = []\n",
    "\n",
    "# Iterate over tokenized_sentences\n",
    "for sent in tokenized_sentences:\n",
    "    X_row = []\n",
    "    y_row = []\n",
    "    \n",
    "    # Iterate over words in the sentence\n",
    "    for w in sent[:-1]:\n",
    "        X_row.append(word_to_index[w])\n",
    "    \n",
    "    for w in sent[1:]:\n",
    "        y_row.append(word_to_index[w])\n",
    "    \n",
    "    X_train_list.append(X_row)\n",
    "    y_train_list.append(y_row)\n",
    "\n",
    "# Convert lists to NumPy arrays\n",
    "X_train = np.array(X_train_list)\n",
    "y_train = np.array(y_train_list)"
   ]
  },
  {
   "cell_type": "code",
   "execution_count": 19,
   "id": "852b944c-889d-4122-aeb8-f2f27da82c41",
   "metadata": {
    "scrolled": true
   },
   "outputs": [
    {
     "ename": "ValueError",
     "evalue": "setting an array element with a sequence. The requested array has an inhomogeneous shape after 1 dimensions. The detected shape was (79184,) + inhomogeneous part.",
     "output_type": "error",
     "traceback": [
      "\u001b[0;31m---------------------------------------------------------------------------\u001b[0m",
      "\u001b[0;31mValueError\u001b[0m                                Traceback (most recent call last)",
      "Cell \u001b[0;32mIn[19], line 20\u001b[0m\n\u001b[1;32m     17\u001b[0m     X_train\u001b[38;5;241m.\u001b[39mappend(X_row)\n\u001b[1;32m     18\u001b[0m     y_train\u001b[38;5;241m.\u001b[39mappend(y_row)\n\u001b[0;32m---> 20\u001b[0m X_train \u001b[38;5;241m=\u001b[39m \u001b[43mnp\u001b[49m\u001b[38;5;241;43m.\u001b[39;49m\u001b[43marray\u001b[49m\u001b[43m(\u001b[49m\u001b[43mX_train\u001b[49m\u001b[43m)\u001b[49m\n",
      "\u001b[0;31mValueError\u001b[0m: setting an array element with a sequence. The requested array has an inhomogeneous shape after 1 dimensions. The detected shape was (79184,) + inhomogeneous part."
     ]
    }
   ],
   "source": [
    "# Initialize empty lists to store X_train and y_train\n",
    "X_train = []\n",
    "y_train = []\n",
    "\n",
    "# Iterate over tokenized_sentences\n",
    "for sent in tokenized_sentences:\n",
    "    X_row = []\n",
    "    y_row = []\n",
    "    \n",
    "    # Iterate over words in the sentence\n",
    "    for w in sent[:-1]:\n",
    "        X_row.append(word_to_index.get(w, 0))\n",
    "    \n",
    "    for w in sent[1:]:\n",
    "        y_row.append(word_to_index.get(w, 0))\n",
    "    \n",
    "    X_train.append(X_row)\n",
    "    y_train.append(y_row)"
   ]
  },
  {
   "cell_type": "code",
   "execution_count": 25,
   "id": "67dbad77-d2bd-4b79-8d86-b4d8a60a289d",
   "metadata": {},
   "outputs": [
    {
     "name": "stdout",
     "output_type": "stream",
     "text": [
      "x:\n",
      "SENTENCE_START what are n't you understanding about this ? !\n",
      "[0, 52, 28, 17, 10, 858, 55, 26, 35, 70]\n",
      "y:\n",
      "what are n't you understanding about this ? ! SENTENCE_END\n",
      "[52, 28, 17, 10, 858, 55, 26, 35, 70, 1]\n",
      "[[0, 11, 18, 7, 3030, 4999, 4999, 4999, 4999, 2], [0, 981, 1496, 221, 600, 16, 773, 3414, 2967, 4, 4999, 600, 471, 4999, 4, 435, 600, 471, 4999, 2722, 4, 8, 72, 4959, 16, 4999, 4999, 2]]\n",
      "[[11, 18, 7, 3030, 4999, 4999, 4999, 4999, 2, 1], [981, 1496, 221, 600, 16, 773, 3414, 2967, 4, 4999, 600, 471, 4999, 4, 435, 600, 471, 4999, 2722, 4, 8, 72, 4959, 16, 4999, 4999, 2, 1]]\n"
     ]
    }
   ],
   "source": [
    "# Print an training data example\n",
    "x_example, y_example = X_train[17], y_train[17]\n",
    "print(f\"x:\\n{' '.join([index_to_word[x] for x in x_example])}\\n{x_example}\")\n",
    "print(f\"y:\\n{' '.join([index_to_word[x] for x in y_example])}\\n{y_example}\")\n",
    "\n",
    "print(X_train[1:3])\n",
    "print(y_train[1:3])"
   ]
  }
 ],
 "metadata": {
  "kernelspec": {
   "display_name": "Python 3 (ipykernel)",
   "language": "python",
   "name": "python3"
  },
  "language_info": {
   "codemirror_mode": {
    "name": "ipython",
    "version": 3
   },
   "file_extension": ".py",
   "mimetype": "text/x-python",
   "name": "python",
   "nbconvert_exporter": "python",
   "pygments_lexer": "ipython3",
   "version": "3.12.2"
  }
 },
 "nbformat": 4,
 "nbformat_minor": 5
}
