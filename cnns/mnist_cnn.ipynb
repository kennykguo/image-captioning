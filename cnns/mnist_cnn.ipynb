{
 "cells": [
  {
   "cell_type": "code",
   "execution_count": 374,
   "id": "ef195e91-cf22-43c4-aec2-67216b6353f9",
   "metadata": {},
   "outputs": [],
   "source": [
    "import numpy as np\n",
    "import pandas as pd\n",
    "from scipy import signal\n",
    "from matplotlib import pyplot as plt\n",
    "data = pd.read_csv('train.csv')"
   ]
  },
  {
   "cell_type": "code",
   "execution_count": 375,
   "id": "d0d8f8ca-66fc-4a13-8442-04e4a21ba2ef",
   "metadata": {},
   "outputs": [
    {
     "data": {
      "text/html": [
       "<div>\n",
       "<style scoped>\n",
       "    .dataframe tbody tr th:only-of-type {\n",
       "        vertical-align: middle;\n",
       "    }\n",
       "\n",
       "    .dataframe tbody tr th {\n",
       "        vertical-align: top;\n",
       "    }\n",
       "\n",
       "    .dataframe thead th {\n",
       "        text-align: right;\n",
       "    }\n",
       "</style>\n",
       "<table border=\"1\" class=\"dataframe\">\n",
       "  <thead>\n",
       "    <tr style=\"text-align: right;\">\n",
       "      <th></th>\n",
       "      <th>label</th>\n",
       "      <th>pixel0</th>\n",
       "      <th>pixel1</th>\n",
       "      <th>pixel2</th>\n",
       "      <th>pixel3</th>\n",
       "      <th>pixel4</th>\n",
       "      <th>pixel5</th>\n",
       "      <th>pixel6</th>\n",
       "      <th>pixel7</th>\n",
       "      <th>pixel8</th>\n",
       "      <th>...</th>\n",
       "      <th>pixel774</th>\n",
       "      <th>pixel775</th>\n",
       "      <th>pixel776</th>\n",
       "      <th>pixel777</th>\n",
       "      <th>pixel778</th>\n",
       "      <th>pixel779</th>\n",
       "      <th>pixel780</th>\n",
       "      <th>pixel781</th>\n",
       "      <th>pixel782</th>\n",
       "      <th>pixel783</th>\n",
       "    </tr>\n",
       "  </thead>\n",
       "  <tbody>\n",
       "    <tr>\n",
       "      <th>0</th>\n",
       "      <td>1</td>\n",
       "      <td>0</td>\n",
       "      <td>0</td>\n",
       "      <td>0</td>\n",
       "      <td>0</td>\n",
       "      <td>0</td>\n",
       "      <td>0</td>\n",
       "      <td>0</td>\n",
       "      <td>0</td>\n",
       "      <td>0</td>\n",
       "      <td>...</td>\n",
       "      <td>0</td>\n",
       "      <td>0</td>\n",
       "      <td>0</td>\n",
       "      <td>0</td>\n",
       "      <td>0</td>\n",
       "      <td>0</td>\n",
       "      <td>0</td>\n",
       "      <td>0</td>\n",
       "      <td>0</td>\n",
       "      <td>0</td>\n",
       "    </tr>\n",
       "    <tr>\n",
       "      <th>1</th>\n",
       "      <td>0</td>\n",
       "      <td>0</td>\n",
       "      <td>0</td>\n",
       "      <td>0</td>\n",
       "      <td>0</td>\n",
       "      <td>0</td>\n",
       "      <td>0</td>\n",
       "      <td>0</td>\n",
       "      <td>0</td>\n",
       "      <td>0</td>\n",
       "      <td>...</td>\n",
       "      <td>0</td>\n",
       "      <td>0</td>\n",
       "      <td>0</td>\n",
       "      <td>0</td>\n",
       "      <td>0</td>\n",
       "      <td>0</td>\n",
       "      <td>0</td>\n",
       "      <td>0</td>\n",
       "      <td>0</td>\n",
       "      <td>0</td>\n",
       "    </tr>\n",
       "    <tr>\n",
       "      <th>2</th>\n",
       "      <td>1</td>\n",
       "      <td>0</td>\n",
       "      <td>0</td>\n",
       "      <td>0</td>\n",
       "      <td>0</td>\n",
       "      <td>0</td>\n",
       "      <td>0</td>\n",
       "      <td>0</td>\n",
       "      <td>0</td>\n",
       "      <td>0</td>\n",
       "      <td>...</td>\n",
       "      <td>0</td>\n",
       "      <td>0</td>\n",
       "      <td>0</td>\n",
       "      <td>0</td>\n",
       "      <td>0</td>\n",
       "      <td>0</td>\n",
       "      <td>0</td>\n",
       "      <td>0</td>\n",
       "      <td>0</td>\n",
       "      <td>0</td>\n",
       "    </tr>\n",
       "    <tr>\n",
       "      <th>3</th>\n",
       "      <td>4</td>\n",
       "      <td>0</td>\n",
       "      <td>0</td>\n",
       "      <td>0</td>\n",
       "      <td>0</td>\n",
       "      <td>0</td>\n",
       "      <td>0</td>\n",
       "      <td>0</td>\n",
       "      <td>0</td>\n",
       "      <td>0</td>\n",
       "      <td>...</td>\n",
       "      <td>0</td>\n",
       "      <td>0</td>\n",
       "      <td>0</td>\n",
       "      <td>0</td>\n",
       "      <td>0</td>\n",
       "      <td>0</td>\n",
       "      <td>0</td>\n",
       "      <td>0</td>\n",
       "      <td>0</td>\n",
       "      <td>0</td>\n",
       "    </tr>\n",
       "    <tr>\n",
       "      <th>4</th>\n",
       "      <td>0</td>\n",
       "      <td>0</td>\n",
       "      <td>0</td>\n",
       "      <td>0</td>\n",
       "      <td>0</td>\n",
       "      <td>0</td>\n",
       "      <td>0</td>\n",
       "      <td>0</td>\n",
       "      <td>0</td>\n",
       "      <td>0</td>\n",
       "      <td>...</td>\n",
       "      <td>0</td>\n",
       "      <td>0</td>\n",
       "      <td>0</td>\n",
       "      <td>0</td>\n",
       "      <td>0</td>\n",
       "      <td>0</td>\n",
       "      <td>0</td>\n",
       "      <td>0</td>\n",
       "      <td>0</td>\n",
       "      <td>0</td>\n",
       "    </tr>\n",
       "  </tbody>\n",
       "</table>\n",
       "<p>5 rows × 785 columns</p>\n",
       "</div>"
      ],
      "text/plain": [
       "   label  pixel0  pixel1  pixel2  pixel3  pixel4  pixel5  pixel6  pixel7  \\\n",
       "0      1       0       0       0       0       0       0       0       0   \n",
       "1      0       0       0       0       0       0       0       0       0   \n",
       "2      1       0       0       0       0       0       0       0       0   \n",
       "3      4       0       0       0       0       0       0       0       0   \n",
       "4      0       0       0       0       0       0       0       0       0   \n",
       "\n",
       "   pixel8  ...  pixel774  pixel775  pixel776  pixel777  pixel778  pixel779  \\\n",
       "0       0  ...         0         0         0         0         0         0   \n",
       "1       0  ...         0         0         0         0         0         0   \n",
       "2       0  ...         0         0         0         0         0         0   \n",
       "3       0  ...         0         0         0         0         0         0   \n",
       "4       0  ...         0         0         0         0         0         0   \n",
       "\n",
       "   pixel780  pixel781  pixel782  pixel783  \n",
       "0         0         0         0         0  \n",
       "1         0         0         0         0  \n",
       "2         0         0         0         0  \n",
       "3         0         0         0         0  \n",
       "4         0         0         0         0  \n",
       "\n",
       "[5 rows x 785 columns]"
      ]
     },
     "execution_count": 375,
     "metadata": {},
     "output_type": "execute_result"
    }
   ],
   "source": [
    "# Use DataFrame.head() and DataFrame.tail() to view the top and bottom rows of the frame respectively:\n",
    "data.head()"
   ]
  },
  {
   "cell_type": "code",
   "execution_count": 376,
   "id": "0d100e1c-fe7d-4718-8f90-081afa05ccfc",
   "metadata": {},
   "outputs": [
    {
     "data": {
      "image/png": "[encoded data removed]",
      "text/plain": [
       "<Figure size 640x480 with 1 Axes>"
      ]
     },
     "metadata": {},
     "output_type": "display_data"
    }
   ],
   "source": [
    "data = np.array(data)\n",
    "\n",
    "def plot_mnist_image(image_array):\n",
    "    image = image_array.reshape(28, 28)\n",
    "    plt.imshow(image, cmap='gray')\n",
    "    plt.axis('off')  # Turn off axis\n",
    "    plt.show()\n",
    "\n",
    "plot_mnist_image(data[2, 1:])"
   ]
  },
  {
   "cell_type": "code",
   "execution_count": 377,
   "id": "90ef5ed9-2c6a-4060-aaf1-84f5c75767ee",
   "metadata": {},
   "outputs": [
    {
     "name": "stdout",
     "output_type": "stream",
     "text": [
      "42000 785\n"
     ]
    }
   ],
   "source": [
    "m, n = data.shape\n",
    "print(m,n)"
   ]
  },
  {
   "cell_type": "code",
   "execution_count": 378,
   "id": "97e6b5f1-e3a7-43a7-96b9-4cc371322534",
   "metadata": {},
   "outputs": [
    {
     "data": {
      "text/plain": [
       "array([[4, 5, 3, ..., 3, 1, 4],\n",
       "       [0, 0, 0, ..., 0, 0, 0],\n",
       "       [0, 0, 0, ..., 0, 0, 0],\n",
       "       ...,\n",
       "       [0, 0, 0, ..., 0, 0, 0],\n",
       "       [0, 0, 0, ..., 0, 0, 0],\n",
       "       [0, 0, 0, ..., 0, 0, 0]])"
      ]
     },
     "execution_count": 378,
     "metadata": {},
     "output_type": "execute_result"
    }
   ],
   "source": [
    "np.random.shuffle(data) # Shuffles all the individual rows\n",
    "data_dev = data[0:1000].T #Take the first 1000 rows, and transpose the matrix to get 1000 examples as column vectors\n",
    "data_dev"
   ]
  },
  {
   "cell_type": "code",
   "execution_count": 379,
   "id": "6bfc2746-5ec9-48b7-8f56-18f31dee1ff9",
   "metadata": {},
   "outputs": [],
   "source": [
    "Y_dev = data_dev[0] #Takes the first row, which contains all of the answers to the numbers (the Y is what we want)"
   ]
  },
  {
   "cell_type": "code",
   "execution_count": 361,
   "id": "bca04569-7231-41b8-a1a5-880d4cb8abde",
   "metadata": {},
   "outputs": [],
   "source": [
    "X_dev = data_dev[1:]"
   ]
  },
  {
   "cell_type": "code",
   "execution_count": 380,
   "id": "02bce0cb-6db8-4824-b6fa-7afdba377565",
   "metadata": {},
   "outputs": [
    {
     "name": "stdout",
     "output_type": "stream",
     "text": [
      "(28, 28, 1000)\n"
     ]
    }
   ],
   "source": [
    "X_dev = X_dev.reshape(28,28,1000)\n",
    "print(X_dev.shape)"
   ]
  },
  {
   "cell_type": "code",
   "execution_count": 381,
   "id": "9b59dca3-a0e1-4c4c-8897-c31be0d041d0",
   "metadata": {},
   "outputs": [
    {
     "data": {
      "image/png": "[encoded data removed]",
      "text/plain": [
       "<Figure size 640x480 with 1 Axes>"
      ]
     },
     "metadata": {},
     "output_type": "display_data"
    },
    {
     "name": "stdout",
     "output_type": "stream",
     "text": [
      "4\n"
     ]
    }
   ],
   "source": [
    "# print(X_dev[:,:,1])\n",
    "plot_mnist_image(X_dev[:,:,6])\n",
    "print(Y_dev[6])"
   ]
  },
  {
   "cell_type": "code",
   "execution_count": 382,
   "id": "f90aef05-a41a-4c59-ad00-63c93e1fffa3",
   "metadata": {},
   "outputs": [],
   "source": [
    "data_train = data[1000:m].T\n",
    "Y_train = data_train[0]"
   ]
  },
  {
   "cell_type": "code",
   "execution_count": 383,
   "id": "99fcae13-b528-49de-a18f-b6f9ed4cfb5b",
   "metadata": {},
   "outputs": [],
   "source": [
    "X_train= data_train[1:n] #Takes all of the data corresponding to all of the entries\n",
    "X_train = X_train.reshape(28,28,41000)"
   ]
  },
  {
   "cell_type": "code",
   "execution_count": 388,
   "id": "a24cc9df-895a-4426-abf2-14ccfca78717",
   "metadata": {},
   "outputs": [],
   "source": [
    "# X_test = X_train[:,:,2:4]\n",
    "# X_test.shape"
   ]
  },
  {
   "cell_type": "code",
   "execution_count": 389,
   "id": "0f6d17d7-167c-4137-a7e1-c2dc6dc6fd8a",
   "metadata": {},
   "outputs": [],
   "source": [
    "# weights = np.random.rand(5,5)\n",
    "# X_test = signal.convolve2d(X_test, weights, mode = 'valid')\n",
    "# X_test.shape"
   ]
  },
  {
   "cell_type": "code",
   "execution_count": 390,
   "id": "6d7b5b43-0f57-4013-ab85-80ec5b90216f",
   "metadata": {},
   "outputs": [],
   "source": [
    "def ReLU(Z): # Takes in a scalar, returns a scalar\n",
    "    return np.maximum(Z, 0)\n",
    "\n",
    "def softmax(Z):\n",
    "    # Apply softmax column-wise\n",
    "    exp_Z = np.exp(Z - np.max(Z, axis=0))  # Subtracting the maximum value in each column to avoid overflow\n",
    "    return exp_Z / np.sum(exp_Z, axis=0)"
   ]
  },
  {
   "cell_type": "code",
   "execution_count": 391,
   "id": "7b515a33-35df-49d8-80fc-b3fb17971ee6",
   "metadata": {},
   "outputs": [],
   "source": [
    "def max_pooling(input_data):\n",
    "    # 24, 24, 2\n",
    "    input_height, input_width, input_depth = input_data.shape\n",
    "\n",
    "    # Calculate the output dimensions\n",
    "    output_height = input_height // 2 # 12\n",
    "    output_width = input_width // 2 # 12\n",
    "    output_depth = input_depth # 2 - depth stays the same\n",
    "\n",
    "    # Initialize the output array and array to store indices\n",
    "    output_data = np.zeros((output_height, output_width, output_depth))\n",
    "    indices = np.zeros((output_height, output_width, output_depth, 2), dtype=int)\n",
    "\n",
    "    # Apply max pooling\n",
    "    for h in range(output_height):\n",
    "        for w in range(output_width):\n",
    "            for d in range(output_depth):\n",
    "                # Extract the 2x2 region of interest from the input data\n",
    "                region = input_data[h*2:(h+1)*2, w*2:(w+1)*2, d]\n",
    "                # Compute the maximum value in the region\n",
    "                max_val = np.max(region)\n",
    "                output_data[h, w, d] = max_val\n",
    "                # Find the indices of the maximum value in the region\n",
    "                max_indices = np.unravel_index(np.argmax(region), region.shape)\n",
    "                # Store the indices relative to the region and convert to global indices\n",
    "                indices[h, w, d] = [h*2 + max_indices[0], w*2 + max_indices[1]]\n",
    "\n",
    "    return output_data, indices\n"
   ]
  },
  {
   "cell_type": "code",
   "execution_count": 392,
   "id": "9c4440c2-219b-486e-bc5f-7984b039e3d3",
   "metadata": {},
   "outputs": [],
   "source": [
    "# # Example usage:\n",
    "# input_data = np.random.rand(4,4,2)\n",
    "\n",
    "# print(input_data.shape)\n",
    "# output_data, indices = max_pooling(input_data)\n",
    "# print(\"Input data:\")\n",
    "# print(input_data[:,:,:])\n",
    "# print(input_data.shape)\n",
    "# print(\"\\nOutput data after max pooling:\")\n",
    "# # print(output_data)\n",
    "# print(output_data.shape)\n",
    "# print(\"\\nIndices of max values:\")\n",
    "# print(indices)\n",
    "# print(indices.shape)\n"
   ]
  },
  {
   "cell_type": "code",
   "execution_count": 394,
   "id": "460fd0ab-c756-4c3a-a2e9-77ad87330d4c",
   "metadata": {},
   "outputs": [],
   "source": [
    "# Initalize layer\n",
    "def params():\n",
    "    layer_weights = np.random.rand(5,5,2) - 0.5\n",
    "    layer_bias = np.random.rand(24,24,2) - 0.5\n",
    "    layer_output = np.zeros((24,24,2))\n",
    "    fc_weights = np.random.rand(10, 288) - 0.5\n",
    "    fc_bias = np.random.rand(10) - 0.5\n",
    "    return layer_weights, layer_bias, layer_output, fc_weights, fc_bias\n",
    "\n",
    "def forward_propogation(layer_input, layer_weights, layer_bias, layer_output, fc_weights, fc_bias):\n",
    "    # Convolution\n",
    "    for i in range(layer_filters):\n",
    "        layer_output[:,:,i] = signal.correlate2d(layer_input, weights, mode = 'valid')\n",
    "    layer_output = layer_output + layer_bias\n",
    "    \n",
    "    # Activation layer\n",
    "    ReLU(layer_output.shape)\n",
    "    layer_output.shape\n",
    "    \n",
    "    # Pool layer\n",
    "    layer_pool, layer_indices = max_pooling(layer_output)\n",
    "    \n",
    "    # Flattening\n",
    "    layer_pool = layer_pool.reshape(288)\n",
    "\n",
    "    # Fully connected layer\n",
    "    final_output = fc_weights.dot(layer_pool) # (10 x 288 ) ( 288 x 1 )\n",
    "    final_output = final_output + fc_bias\n",
    "    final_output = softmax(final_output)\n",
    "\n",
    "    return layer_output, layer_pool, final_output\n",
    "\n",
    "def create(Y):\n",
    "  column_Y = np.zeros((10,))\n",
    "  column_Y[Y-1] = 1\n",
    "  column_Y = column_Y.T\n",
    "  return column_Y"
   ]
  },
  {
   "cell_type": "code",
   "execution_count": 395,
   "id": "26a21241-e082-487c-a194-adb44fa414b5",
   "metadata": {},
   "outputs": [],
   "source": [
    "# Backpropogation through layers\n",
    "\n",
    "def back_prop(layer_output, layer_pool, final_output):\n",
    "    delta_conv_weights = np.zeros((5,5,2))\n",
    "    delta_conv_bias = np.zeros((24,24,2)) \n",
    "    delta_fc_weights = np.zeros((10, 288))\n",
    "    delta_fc_bias = np.zeros((10))\n",
    "    \n",
    "    # Backpropogate cost\n",
    "    dZ = (final_output - x) # 10 x 1\n",
    "    dZ = dZ.reshape((10,1))\n",
    "    layer_pool = layer_pool.reshape((1,288))\n",
    "    #Backpropogate weights and biases\n",
    "    delta_fc_weights = dZ.dot(layer_pool) # (10 x 1 ) (1 x 288) = (10 x 288)\n",
    "    delta_fc_bias = dZ\n",
    "    \n",
    "    # Backpropogate error\n",
    "    dZ_pool_output = (fc_weights.T)\n",
    "    \n",
    "    # Unflattening\n",
    "    dZ_pool_output = dZ_pool.reshape(12,12,2)\n",
    "    \n",
    "    # Unpooling\n",
    "    dZ_pool_input = np.zeros((24,24,2))\n",
    "    for i in range(12): # height\n",
    "        for j in range(12): # width\n",
    "            for k in range(2): # depth\n",
    "                # Get the global indices from layer_indices\n",
    "                x_index, y_index = layer_indices[i, j, k]\n",
    "                # Assign the gradient from dZ_pool_output to the corresponding position in dZ_pool_input\n",
    "                dZ_pool_input[x_index, y_index, k] = dZ_pool_output[i, j, k]\n",
    "    \n",
    "    # Backpropogating convolutional layer - dZ_pool_input is the output of the convolutional layer\n",
    "    for i in range(2): # For each filter in the kernel - # of filters = 2\n",
    "        delta_conv_weights[:,:,i] = signal.correlate(layer_input, dZ_pool_input[:,:,i], mode = \"valid\")\n",
    "    delta_conv_bias = dZ_pool_input\n",
    "\n",
    "    return delta_conv_weights, delta_conv_bias, delta_fc_weights, delta_fc_bias\n",
    "\n",
    "def update_params(layer_weights, layer_bias, fc_weights, fc_bias, delta_conv_weights, delta_conv_bias, delta_fc_weights, delta_fc_bias, learning_rate):\n",
    "    layer_weights = layer_weights - learning_rate * delta_conv_weights\n",
    "    layer_bias = layer_bias - learning_rate * delta_conv_bias\n",
    "    fc_weights = fc_weights -learning_rate * delta_fc_weights\n",
    "    fc_bias = fc_bias - learning_rate * delta_fc_bias\n",
    "    return layer_weights, layer_bias, fc_weights, fc_bias\n",
    "\n",
    "def get_prediction(A2):\n",
    "  return np.argmax(A2, 0)"
   ]
  },
  {
   "cell_type": "code",
   "execution_count": 396,
   "id": "3d5f150a-6145-472a-9d41-4275cb9f003b",
   "metadata": {},
   "outputs": [
    {
     "name": "stdout",
     "output_type": "stream",
     "text": [
      "(28, 41000)\n"
     ]
    }
   ],
   "source": [
    "layer_input = X_train[i]\n",
    "print(layer_input.shape)"
   ]
  },
  {
   "cell_type": "code",
   "execution_count": 399,
   "id": "93a0e690-fbfd-4a55-8e20-931355b9d78c",
   "metadata": {},
   "outputs": [],
   "source": [
    "def gradient_descent(X_train, X_dev, Y_train, Y_dev, epochs, alpha):\n",
    "    layer_weights, layer_bias, layer_output, fc_weights, fc_bias = params()\n",
    "    for i in range(epochs):\n",
    "        # Get a single training example\n",
    "        layer_input = X_train[:,:,i]\n",
    "        # Forward propogation\n",
    "        layer_output, layer_pool, final_output = forward_propogation(layer_input, layer_weights, layer_bias, layer_output, fc_weights, fc_bias)\n",
    "\n",
    "    \n",
    "        delta_conv_weights, delta_conv_bias, delta_fc_weights, delta_fc_bias = back_prop(layer_output, layer_pool, final_output)\n",
    "        layer_weights, layer_bias, fc_weights, fc_bias = update_params(layer_weights, layer_bias, fc_weights, fc_bias, delta_conv_weights, delta_conv_bias, delta_fc_weights, delta_fc_bias, learning_rate)\n",
    "        for i in range(200):\n",
    "            counter = 0;\n",
    "            layer_output, layer_pool, final_output = forward_propogation(X_dev[i], layer_weights, layer_bias, layer_output, fc_weights, fc_bias)\n",
    "            prediction = get_prediction(layer_output)\n",
    "            if (prediction == Y_dev[i]):\n",
    "                counter = counter + 1\n",
    "        print(\"Epoch:\", i)\n",
    "        print(\"Accuracy:\", counter/200)\n",
    "\n",
    "    return layer_weights, layer_bias, layer_output, fc_weights, fc_bias"
   ]
  },
  {
   "cell_type": "code",
   "execution_count": 400,
   "id": "45106863-de98-4639-8fc5-92edb75e446c",
   "metadata": {},
   "outputs": [
    {
     "name": "stdout",
     "output_type": "stream",
     "text": [
      "hello\n"
     ]
    },
    {
     "ename": "ValueError",
     "evalue": "could not broadcast input array from shape (5,40977) into shape (5,5)",
     "output_type": "error",
     "traceback": [
      "\u001b[0;31m---------------------------------------------------------------------------\u001b[0m",
      "\u001b[0;31mValueError\u001b[0m                                Traceback (most recent call last)",
      "Cell \u001b[0;32mIn[400], line 2\u001b[0m\n\u001b[1;32m      1\u001b[0m \u001b[38;5;28mprint\u001b[39m(\u001b[38;5;124m\"\u001b[39m\u001b[38;5;124mhello\u001b[39m\u001b[38;5;124m\"\u001b[39m)\n\u001b[0;32m----> 2\u001b[0m layer_weights, layer_bias, layer_output, fc_weights, fc_bias \u001b[38;5;241m=\u001b[39m \u001b[43mgradient_descent\u001b[49m\u001b[43m(\u001b[49m\u001b[43mX_train\u001b[49m\u001b[43m,\u001b[49m\u001b[43m \u001b[49m\u001b[43mX_dev\u001b[49m\u001b[43m,\u001b[49m\u001b[43m \u001b[49m\u001b[43mY_train\u001b[49m\u001b[43m,\u001b[49m\u001b[43m \u001b[49m\u001b[43mY_dev\u001b[49m\u001b[43m,\u001b[49m\u001b[43m \u001b[49m\u001b[38;5;241;43m10\u001b[39;49m\u001b[43m,\u001b[49m\u001b[43m \u001b[49m\u001b[38;5;241;43m0.01\u001b[39;49m\u001b[43m)\u001b[49m\n",
      "Cell \u001b[0;32mIn[399], line 6\u001b[0m, in \u001b[0;36mgradient_descent\u001b[0;34m(X_train, X_dev, Y_train, Y_dev, epochs, alpha)\u001b[0m\n\u001b[1;32m      4\u001b[0m layer_input \u001b[38;5;241m=\u001b[39m X_train[:,:,i]\n\u001b[1;32m      5\u001b[0m layer_output, layer_pool, final_output \u001b[38;5;241m=\u001b[39m forward_propogation(layer_input, layer_weights, layer_bias, layer_output, fc_weights, fc_bias)\n\u001b[0;32m----> 6\u001b[0m delta_conv_weights, delta_conv_bias, delta_fc_weights, delta_fc_bias \u001b[38;5;241m=\u001b[39m \u001b[43mback_prop\u001b[49m\u001b[43m(\u001b[49m\u001b[43mlayer_output\u001b[49m\u001b[43m,\u001b[49m\u001b[43m \u001b[49m\u001b[43mlayer_pool\u001b[49m\u001b[43m,\u001b[49m\u001b[43m \u001b[49m\u001b[43mfinal_output\u001b[49m\u001b[43m)\u001b[49m\n\u001b[1;32m      7\u001b[0m layer_weights, layer_bias, fc_weights, fc_bias \u001b[38;5;241m=\u001b[39m update_params(layer_weights, layer_bias, fc_weights, fc_bias, delta_conv_weights, delta_conv_bias, delta_fc_weights, delta_fc_bias, learning_rate)\n\u001b[1;32m      8\u001b[0m \u001b[38;5;28;01mfor\u001b[39;00m i \u001b[38;5;129;01min\u001b[39;00m \u001b[38;5;28mrange\u001b[39m(\u001b[38;5;241m200\u001b[39m):\n",
      "Cell \u001b[0;32mIn[395], line 35\u001b[0m, in \u001b[0;36mback_prop\u001b[0;34m(layer_output, layer_pool, final_output)\u001b[0m\n\u001b[1;32m     33\u001b[0m \u001b[38;5;66;03m# Backpropogating convolutional layer - dZ_pool_input is the output of the convolutional layer\u001b[39;00m\n\u001b[1;32m     34\u001b[0m \u001b[38;5;28;01mfor\u001b[39;00m i \u001b[38;5;129;01min\u001b[39;00m \u001b[38;5;28mrange\u001b[39m(\u001b[38;5;241m2\u001b[39m): \u001b[38;5;66;03m# For each filter in the kernel - # of filters = 2\u001b[39;00m\n\u001b[0;32m---> 35\u001b[0m     \u001b[43mdelta_conv_weights\u001b[49m\u001b[43m[\u001b[49m\u001b[43m:\u001b[49m\u001b[43m,\u001b[49m\u001b[43m:\u001b[49m\u001b[43m,\u001b[49m\u001b[43mi\u001b[49m\u001b[43m]\u001b[49m \u001b[38;5;241m=\u001b[39m signal\u001b[38;5;241m.\u001b[39mcorrelate(layer_input, dZ_pool_input[:,:,i], mode \u001b[38;5;241m=\u001b[39m \u001b[38;5;124m\"\u001b[39m\u001b[38;5;124mvalid\u001b[39m\u001b[38;5;124m\"\u001b[39m)\n\u001b[1;32m     36\u001b[0m delta_conv_bias \u001b[38;5;241m=\u001b[39m dZ_pool_input\n\u001b[1;32m     38\u001b[0m \u001b[38;5;28;01mreturn\u001b[39;00m delta_conv_weights, delta_conv_bias, delta_fc_weights, delta_fc_bias\n",
      "\u001b[0;31mValueError\u001b[0m: could not broadcast input array from shape (5,40977) into shape (5,5)"
     ]
    }
   ],
   "source": [
    "print(\"hello\")\n",
    "layer_weights, layer_bias, layer_output, fc_weights, fc_bias = gradient_descent(X_train, X_dev, Y_train, Y_dev, 10, 0.01)"
   ]
  }
 ],
 "metadata": {
  "kernelspec": {
   "display_name": "Python 3 (ipykernel)",
   "language": "python",
   "name": "python3"
  },
  "language_info": {
   "codemirror_mode": {
    "name": "ipython",
    "version": 3
   },
   "file_extension": ".py",
   "mimetype": "text/x-python",
   "name": "python",
   "nbconvert_exporter": "python",
   "pygments_lexer": "ipython3",
   "version": "3.12.2"
  }
 },
 "nbformat": 4,
 "nbformat_minor": 5
}
